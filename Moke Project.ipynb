{
 "cells": [
  {
   "cell_type": "code",
   "execution_count": 37,
   "metadata": {
    "scrolled": true
   },
   "outputs": [],
   "source": [
    "from netCDF4 import Dataset\n",
    "import netCDF4 as nc\n",
    "import numpy as np\n",
    "import pandas as pd"
   ]
  },
  {
   "cell_type": "code",
   "execution_count": 4,
   "metadata": {
    "scrolled": true
   },
   "outputs": [
    {
     "name": "stdout",
     "output_type": "stream",
     "text": [
      "Collecting package metadata (current_repodata.json): done\n",
      "Solving environment: failed with initial frozen solve. Retrying with flexible solve.\n",
      "Solving environment: failed with repodata from current_repodata.json, will retry with next repodata source.\n",
      "Collecting package metadata (repodata.json): done\n",
      "Solving environment: done\n",
      "\n",
      "## Package Plan ##\n",
      "\n",
      "  environment location: /opt/anaconda3\n",
      "\n",
      "  added / updated specs:\n",
      "    - netcdf4\n",
      "\n",
      "\n",
      "The following packages will be downloaded:\n",
      "\n",
      "    package                    |            build\n",
      "    ---------------------------|-----------------\n",
      "    cftime-1.5.0               |   py38he3068b8_0         174 KB\n",
      "    hdf4-4.2.13                |       h39711bb_2         682 KB\n",
      "    libnetcdf-4.7.3            |       he3b6227_0         814 KB\n",
      "    netcdf4-1.5.3              |   py38h28545a2_0         438 KB\n",
      "    ------------------------------------------------------------\n",
      "                                           Total:         2.1 MB\n",
      "\n",
      "The following NEW packages will be INSTALLED:\n",
      "\n",
      "  cftime             pkgs/main/osx-64::cftime-1.5.0-py38he3068b8_0\n",
      "  hdf4               pkgs/main/osx-64::hdf4-4.2.13-h39711bb_2\n",
      "  libnetcdf          pkgs/main/osx-64::libnetcdf-4.7.3-he3b6227_0\n",
      "  netcdf4            pkgs/main/osx-64::netcdf4-1.5.3-py38h28545a2_0\n",
      "\n",
      "\n",
      "\n",
      "Downloading and Extracting Packages\n",
      "cftime-1.5.0         | 174 KB    | ##################################### | 100% \n",
      "netcdf4-1.5.3        | 438 KB    | ##################################### | 100% \n",
      "hdf4-4.2.13          | 682 KB    | ##################################### | 100% \n",
      "libnetcdf-4.7.3      | 814 KB    | ##################################### | 100% \n",
      "Preparing transaction: done\n",
      "Verifying transaction: done\n",
      "Executing transaction: done\n"
     ]
    }
   ],
   "source": [
    "!conda install netCDF4 -y"
   ]
  },
  {
   "cell_type": "code",
   "execution_count": 6,
   "metadata": {},
   "outputs": [],
   "source": [
    "from zipfile import ZipFile\n",
    "\n",
    "# with ZipFile('RADNL_CLIM_EM_MFBSNL25_05m_20071231T235500_20081231T235500_netCDF4_0002.zip', 'r') as zipObj:\n",
    "   # Extract all the contents of zip file in current directory\n",
    "#   zipObj.extractall()"
   ]
  },
  {
   "cell_type": "code",
   "execution_count": 304,
   "metadata": {},
   "outputs": [],
   "source": []
  },
  {
   "cell_type": "code",
   "execution_count": 7,
   "metadata": {},
   "outputs": [],
   "source": [
    "onefile = 'RAD_NL25_RAC_MFBS_EM_5min_202101190700.nc'"
   ]
  },
  {
   "cell_type": "code",
   "execution_count": 40,
   "metadata": {
    "scrolled": false
   },
   "outputs": [
    {
     "ename": "FileNotFoundError",
     "evalue": "[Errno 2] No such file or directory: b'./RAD_NL25_RAC_MFBS_EM_5min_NC/2021/jan_day_1_hour_1/RAD_NL25_RAC_MFBS_EM_5min_202101090640.nc'",
     "output_type": "error",
     "traceback": [
      "\u001b[0;31m---------------------------------------------------------------------------\u001b[0m",
      "\u001b[0;31mFileNotFoundError\u001b[0m                         Traceback (most recent call last)",
      "\u001b[0;32m<ipython-input-40-84a709e74132>\u001b[0m in \u001b[0;36m<module>\u001b[0;34m\u001b[0m\n\u001b[1;32m     12\u001b[0m \u001b[0;32mfor\u001b[0m \u001b[0mfilename\u001b[0m \u001b[0;32min\u001b[0m \u001b[0mfilenames\u001b[0m\u001b[0;34m:\u001b[0m\u001b[0;34m\u001b[0m\u001b[0;34m\u001b[0m\u001b[0m\n\u001b[1;32m     13\u001b[0m \u001b[0;34m\u001b[0m\u001b[0m\n\u001b[0;32m---> 14\u001b[0;31m     \u001b[0mds\u001b[0m \u001b[0;34m=\u001b[0m \u001b[0mDataset\u001b[0m\u001b[0;34m(\u001b[0m\u001b[0mbase_dir_hour\u001b[0m \u001b[0;34m+\u001b[0m \u001b[0mfilename\u001b[0m\u001b[0;34m,\u001b[0m \u001b[0mmode\u001b[0m\u001b[0;34m=\u001b[0m\u001b[0;34m'r'\u001b[0m\u001b[0;34m)\u001b[0m\u001b[0;34m\u001b[0m\u001b[0;34m\u001b[0m\u001b[0m\n\u001b[0m\u001b[1;32m     15\u001b[0m     \u001b[0mdata\u001b[0m \u001b[0;34m=\u001b[0m \u001b[0mds\u001b[0m\u001b[0;34m[\u001b[0m\u001b[0;34m'image1_image_data'\u001b[0m\u001b[0;34m]\u001b[0m\u001b[0;34m[\u001b[0m\u001b[0;34m:\u001b[0m\u001b[0;34m]\u001b[0m\u001b[0;34m\u001b[0m\u001b[0;34m\u001b[0m\u001b[0m\n\u001b[1;32m     16\u001b[0m     \u001b[0;31m#print(np.max(data))\u001b[0m\u001b[0;34m\u001b[0m\u001b[0;34m\u001b[0m\u001b[0;34m\u001b[0m\u001b[0m\n",
      "\u001b[0;32mnetCDF4/_netCDF4.pyx\u001b[0m in \u001b[0;36mnetCDF4._netCDF4.Dataset.__init__\u001b[0;34m()\u001b[0m\n",
      "\u001b[0;32mnetCDF4/_netCDF4.pyx\u001b[0m in \u001b[0;36mnetCDF4._netCDF4._ensure_nc_success\u001b[0;34m()\u001b[0m\n",
      "\u001b[0;31mFileNotFoundError\u001b[0m: [Errno 2] No such file or directory: b'./RAD_NL25_RAC_MFBS_EM_5min_NC/2021/jan_day_1_hour_1/RAD_NL25_RAC_MFBS_EM_5min_202101090640.nc'"
     ]
    }
   ],
   "source": [
    "import os\n",
    "base_dir_hour = './RAD_NL25_RAC_MFBS_EM_5min_NC/2021/jan_day_1_hour_1/'\n",
    "base_dir_day = './RAD_NL25_RAC_MFBS_EM_5min_NC/2021/jan_day_1/'\n",
    "base_dir_month = './RAD_NL25_RAC_MFBS_EM_5min_NC/2021/01/'\n",
    "onefile = 'RAD_NL25_RAC_MFBS_EM_5min_202101190700.nc'\n",
    "\n",
    "from os import walk\n",
    "\n",
    "_, _, filenames = next(walk(base_dir_month))\n",
    "one_month_data = np.zeros((765, 700))\n",
    "\n",
    "for filename in filenames:\n",
    "   \n",
    "    ds = Dataset(base_dir_hour + filename, mode='r')\n",
    "    data = ds['image1_image_data'][:]\n",
    "    #print(np.max(data))\n",
    "    mydata = data.filled(0) #65535\n",
    "    one_month_data = np.add(one_month_data, mydata)\n"
   ]
  },
  {
   "cell_type": "code",
   "execution_count": 44,
   "metadata": {
    "scrolled": true
   },
   "outputs": [
    {
     "name": "stdout",
     "output_type": "stream",
     "text": [
      "<class 'netCDF4._netCDF4.Dataset'>\n",
      "root group (NETCDF4 data model, file format HDF5):\n",
      "    Conventions: CF-1.5\n",
      "    history: Metadata adjusted by ADAGUC from KNMIHDF5 to NetCDF-CF\n",
      "    dimensions(sizes): y(765), x(700), time(1)\n",
      "    variables(dimensions): float64 y(y), float64 x(x), float64 time(time), |S1 geographic(), |S1 image1_calibration(), uint16 image1_image_data(time,y,x), |S1 overview(), |S1 radar1(), |S1 radar2(), |S1 radar3(), |S1 product(), |S1 iso_dataset(), |S1 projection()\n",
      "    groups: \n"
     ]
    },
    {
     "name": "stderr",
     "output_type": "stream",
     "text": [
      "<ipython-input-44-3c42d6e3662a>:2: DeprecationWarning: tostring() is deprecated. Use tobytes() instead.\n",
      "  print(ss)\n"
     ]
    }
   ],
   "source": [
    "ss = Dataset(onefile, mode='r')\n",
    "print(ss)"
   ]
  },
  {
   "cell_type": "code",
   "execution_count": 50,
   "metadata": {
    "scrolled": false
   },
   "outputs": [
    {
     "name": "stderr",
     "output_type": "stream",
     "text": [
      "<ipython-input-50-a0211bddbd92>:1: DeprecationWarning: `np.bool` is a deprecated alias for the builtin `bool`. To silence this warning, use `bool` by itself. Doing this will not modify any behavior and is safe. If you specifically wanted the numpy scalar type, use `np.bool_` here.\n",
      "Deprecated in NumPy 1.20; for more details and guidance: https://numpy.org/devdocs/release/1.20.0-notes.html#deprecations\n",
      "  x = ss['x'][:]\n"
     ]
    }
   ],
   "source": [
    "x = ss['x'][:]\n",
    "aa = x.filled(0)"
   ]
  },
  {
   "cell_type": "code",
   "execution_count": 53,
   "metadata": {},
   "outputs": [
    {
     "data": {
      "text/plain": [
       "0.5"
      ]
     },
     "execution_count": 53,
     "metadata": {},
     "output_type": "execute_result"
    }
   ],
   "source": [
    "np.min(aa)"
   ]
  },
  {
   "cell_type": "code",
   "execution_count": 444,
   "metadata": {},
   "outputs": [
    {
     "data": {
      "text/plain": [
       "8928"
      ]
     },
     "execution_count": 444,
     "metadata": {},
     "output_type": "execute_result"
    }
   ],
   "source": [
    "len(filenames)"
   ]
  },
  {
   "cell_type": "code",
   "execution_count": 446,
   "metadata": {},
   "outputs": [
    {
     "data": {
      "text/plain": [
       "0.0"
      ]
     },
     "execution_count": 446,
     "metadata": {},
     "output_type": "execute_result"
    }
   ],
   "source": [
    "np.min(one_month_data)"
   ]
  },
  {
   "cell_type": "code",
   "execution_count": 364,
   "metadata": {},
   "outputs": [
    {
     "data": {
      "text/plain": [
       "masked_array(\n",
       "  data=[[[--, --, --, ..., --, --, --],\n",
       "         [--, --, --, ..., --, --, --],\n",
       "         [--, --, --, ..., --, --, --],\n",
       "         ...,\n",
       "         [--, --, --, ..., --, --, --],\n",
       "         [--, --, --, ..., --, --, --],\n",
       "         [--, --, --, ..., --, --, --]]],\n",
       "  mask=[[[ True,  True,  True, ...,  True,  True,  True],\n",
       "         [ True,  True,  True, ...,  True,  True,  True],\n",
       "         [ True,  True,  True, ...,  True,  True,  True],\n",
       "         ...,\n",
       "         [ True,  True,  True, ...,  True,  True,  True],\n",
       "         [ True,  True,  True, ...,  True,  True,  True],\n",
       "         [ True,  True,  True, ...,  True,  True,  True]]],\n",
       "  fill_value=65535,\n",
       "  dtype=float32)"
      ]
     },
     "execution_count": 364,
     "metadata": {},
     "output_type": "execute_result"
    }
   ],
   "source": [
    "Mokedata = v1['image1_image_data'][:]\n",
    "Mokedata"
   ]
  },
  {
   "cell_type": "code",
   "execution_count": 365,
   "metadata": {
    "scrolled": true
   },
   "outputs": [
    {
     "data": {
      "text/plain": [
       "array([[[ True,  True,  True, ...,  True,  True,  True],\n",
       "        [ True,  True,  True, ...,  True,  True,  True],\n",
       "        [ True,  True,  True, ...,  True,  True,  True],\n",
       "        ...,\n",
       "        [ True,  True,  True, ...,  True,  True,  True],\n",
       "        [ True,  True,  True, ...,  True,  True,  True],\n",
       "        [ True,  True,  True, ...,  True,  True,  True]]])"
      ]
     },
     "execution_count": 365,
     "metadata": {},
     "output_type": "execute_result"
    }
   ],
   "source": [
    "Mokedata.mask"
   ]
  },
  {
   "cell_type": "code",
   "execution_count": 406,
   "metadata": {},
   "outputs": [
    {
     "data": {
      "text/plain": [
       "array([[0., 0., 0., ..., 0., 0., 0.],\n",
       "       [0., 0., 0., ..., 0., 0., 0.],\n",
       "       [0., 0., 0., ..., 0., 0., 0.],\n",
       "       ...,\n",
       "       [0., 0., 0., ..., 0., 0., 0.],\n",
       "       [0., 0., 0., ..., 0., 0., 0.],\n",
       "       [0., 0., 0., ..., 0., 0., 0.]], dtype=float32)"
      ]
     },
     "execution_count": 406,
     "metadata": {},
     "output_type": "execute_result"
    }
   ],
   "source": [
    "aa = Mokedata.filled(0)[0]\n",
    "aa"
   ]
  },
  {
   "cell_type": "code",
   "execution_count": 13,
   "metadata": {},
   "outputs": [
    {
     "data": {
      "text/html": [
       "<div><svg style=\"position: absolute; width: 0; height: 0; overflow: hidden\">\n",
       "<defs>\n",
       "<symbol id=\"icon-database\" viewBox=\"0 0 32 32\">\n",
       "<path d=\"M16 0c-8.837 0-16 2.239-16 5v4c0 2.761 7.163 5 16 5s16-2.239 16-5v-4c0-2.761-7.163-5-16-5z\"></path>\n",
       "<path d=\"M16 17c-8.837 0-16-2.239-16-5v6c0 2.761 7.163 5 16 5s16-2.239 16-5v-6c0 2.761-7.163 5-16 5z\"></path>\n",
       "<path d=\"M16 26c-8.837 0-16-2.239-16-5v6c0 2.761 7.163 5 16 5s16-2.239 16-5v-6c0 2.761-7.163 5-16 5z\"></path>\n",
       "</symbol>\n",
       "<symbol id=\"icon-file-text2\" viewBox=\"0 0 32 32\">\n",
       "<path d=\"M28.681 7.159c-0.694-0.947-1.662-2.053-2.724-3.116s-2.169-2.030-3.116-2.724c-1.612-1.182-2.393-1.319-2.841-1.319h-15.5c-1.378 0-2.5 1.121-2.5 2.5v27c0 1.378 1.122 2.5 2.5 2.5h23c1.378 0 2.5-1.122 2.5-2.5v-19.5c0-0.448-0.137-1.23-1.319-2.841zM24.543 5.457c0.959 0.959 1.712 1.825 2.268 2.543h-4.811v-4.811c0.718 0.556 1.584 1.309 2.543 2.268zM28 29.5c0 0.271-0.229 0.5-0.5 0.5h-23c-0.271 0-0.5-0.229-0.5-0.5v-27c0-0.271 0.229-0.5 0.5-0.5 0 0 15.499-0 15.5 0v7c0 0.552 0.448 1 1 1h7v19.5z\"></path>\n",
       "<path d=\"M23 26h-14c-0.552 0-1-0.448-1-1s0.448-1 1-1h14c0.552 0 1 0.448 1 1s-0.448 1-1 1z\"></path>\n",
       "<path d=\"M23 22h-14c-0.552 0-1-0.448-1-1s0.448-1 1-1h14c0.552 0 1 0.448 1 1s-0.448 1-1 1z\"></path>\n",
       "<path d=\"M23 18h-14c-0.552 0-1-0.448-1-1s0.448-1 1-1h14c0.552 0 1 0.448 1 1s-0.448 1-1 1z\"></path>\n",
       "</symbol>\n",
       "</defs>\n",
       "</svg>\n",
       "<style>/* CSS stylesheet for displaying xarray objects in jupyterlab.\n",
       " *\n",
       " */\n",
       "\n",
       ":root {\n",
       "  --xr-font-color0: var(--jp-content-font-color0, rgba(0, 0, 0, 1));\n",
       "  --xr-font-color2: var(--jp-content-font-color2, rgba(0, 0, 0, 0.54));\n",
       "  --xr-font-color3: var(--jp-content-font-color3, rgba(0, 0, 0, 0.38));\n",
       "  --xr-border-color: var(--jp-border-color2, #e0e0e0);\n",
       "  --xr-disabled-color: var(--jp-layout-color3, #bdbdbd);\n",
       "  --xr-background-color: var(--jp-layout-color0, white);\n",
       "  --xr-background-color-row-even: var(--jp-layout-color1, white);\n",
       "  --xr-background-color-row-odd: var(--jp-layout-color2, #eeeeee);\n",
       "}\n",
       "\n",
       "html[theme=dark],\n",
       "body.vscode-dark {\n",
       "  --xr-font-color0: rgba(255, 255, 255, 1);\n",
       "  --xr-font-color2: rgba(255, 255, 255, 0.54);\n",
       "  --xr-font-color3: rgba(255, 255, 255, 0.38);\n",
       "  --xr-border-color: #1F1F1F;\n",
       "  --xr-disabled-color: #515151;\n",
       "  --xr-background-color: #111111;\n",
       "  --xr-background-color-row-even: #111111;\n",
       "  --xr-background-color-row-odd: #313131;\n",
       "}\n",
       "\n",
       ".xr-wrap {\n",
       "  display: block;\n",
       "  min-width: 300px;\n",
       "  max-width: 700px;\n",
       "}\n",
       "\n",
       ".xr-text-repr-fallback {\n",
       "  /* fallback to plain text repr when CSS is not injected (untrusted notebook) */\n",
       "  display: none;\n",
       "}\n",
       "\n",
       ".xr-header {\n",
       "  padding-top: 6px;\n",
       "  padding-bottom: 6px;\n",
       "  margin-bottom: 4px;\n",
       "  border-bottom: solid 1px var(--xr-border-color);\n",
       "}\n",
       "\n",
       ".xr-header > div,\n",
       ".xr-header > ul {\n",
       "  display: inline;\n",
       "  margin-top: 0;\n",
       "  margin-bottom: 0;\n",
       "}\n",
       "\n",
       ".xr-obj-type,\n",
       ".xr-array-name {\n",
       "  margin-left: 2px;\n",
       "  margin-right: 10px;\n",
       "}\n",
       "\n",
       ".xr-obj-type {\n",
       "  color: var(--xr-font-color2);\n",
       "}\n",
       "\n",
       ".xr-sections {\n",
       "  padding-left: 0 !important;\n",
       "  display: grid;\n",
       "  grid-template-columns: 150px auto auto 1fr 20px 20px;\n",
       "}\n",
       "\n",
       ".xr-section-item {\n",
       "  display: contents;\n",
       "}\n",
       "\n",
       ".xr-section-item input {\n",
       "  display: none;\n",
       "}\n",
       "\n",
       ".xr-section-item input + label {\n",
       "  color: var(--xr-disabled-color);\n",
       "}\n",
       "\n",
       ".xr-section-item input:enabled + label {\n",
       "  cursor: pointer;\n",
       "  color: var(--xr-font-color2);\n",
       "}\n",
       "\n",
       ".xr-section-item input:enabled + label:hover {\n",
       "  color: var(--xr-font-color0);\n",
       "}\n",
       "\n",
       ".xr-section-summary {\n",
       "  grid-column: 1;\n",
       "  color: var(--xr-font-color2);\n",
       "  font-weight: 500;\n",
       "}\n",
       "\n",
       ".xr-section-summary > span {\n",
       "  display: inline-block;\n",
       "  padding-left: 0.5em;\n",
       "}\n",
       "\n",
       ".xr-section-summary-in:disabled + label {\n",
       "  color: var(--xr-font-color2);\n",
       "}\n",
       "\n",
       ".xr-section-summary-in + label:before {\n",
       "  display: inline-block;\n",
       "  content: '►';\n",
       "  font-size: 11px;\n",
       "  width: 15px;\n",
       "  text-align: center;\n",
       "}\n",
       "\n",
       ".xr-section-summary-in:disabled + label:before {\n",
       "  color: var(--xr-disabled-color);\n",
       "}\n",
       "\n",
       ".xr-section-summary-in:checked + label:before {\n",
       "  content: '▼';\n",
       "}\n",
       "\n",
       ".xr-section-summary-in:checked + label > span {\n",
       "  display: none;\n",
       "}\n",
       "\n",
       ".xr-section-summary,\n",
       ".xr-section-inline-details {\n",
       "  padding-top: 4px;\n",
       "  padding-bottom: 4px;\n",
       "}\n",
       "\n",
       ".xr-section-inline-details {\n",
       "  grid-column: 2 / -1;\n",
       "}\n",
       "\n",
       ".xr-section-details {\n",
       "  display: none;\n",
       "  grid-column: 1 / -1;\n",
       "  margin-bottom: 5px;\n",
       "}\n",
       "\n",
       ".xr-section-summary-in:checked ~ .xr-section-details {\n",
       "  display: contents;\n",
       "}\n",
       "\n",
       ".xr-array-wrap {\n",
       "  grid-column: 1 / -1;\n",
       "  display: grid;\n",
       "  grid-template-columns: 20px auto;\n",
       "}\n",
       "\n",
       ".xr-array-wrap > label {\n",
       "  grid-column: 1;\n",
       "  vertical-align: top;\n",
       "}\n",
       "\n",
       ".xr-preview {\n",
       "  color: var(--xr-font-color3);\n",
       "}\n",
       "\n",
       ".xr-array-preview,\n",
       ".xr-array-data {\n",
       "  padding: 0 5px !important;\n",
       "  grid-column: 2;\n",
       "}\n",
       "\n",
       ".xr-array-data,\n",
       ".xr-array-in:checked ~ .xr-array-preview {\n",
       "  display: none;\n",
       "}\n",
       "\n",
       ".xr-array-in:checked ~ .xr-array-data,\n",
       ".xr-array-preview {\n",
       "  display: inline-block;\n",
       "}\n",
       "\n",
       ".xr-dim-list {\n",
       "  display: inline-block !important;\n",
       "  list-style: none;\n",
       "  padding: 0 !important;\n",
       "  margin: 0;\n",
       "}\n",
       "\n",
       ".xr-dim-list li {\n",
       "  display: inline-block;\n",
       "  padding: 0;\n",
       "  margin: 0;\n",
       "}\n",
       "\n",
       ".xr-dim-list:before {\n",
       "  content: '(';\n",
       "}\n",
       "\n",
       ".xr-dim-list:after {\n",
       "  content: ')';\n",
       "}\n",
       "\n",
       ".xr-dim-list li:not(:last-child):after {\n",
       "  content: ',';\n",
       "  padding-right: 5px;\n",
       "}\n",
       "\n",
       ".xr-has-index {\n",
       "  font-weight: bold;\n",
       "}\n",
       "\n",
       ".xr-var-list,\n",
       ".xr-var-item {\n",
       "  display: contents;\n",
       "}\n",
       "\n",
       ".xr-var-item > div,\n",
       ".xr-var-item label,\n",
       ".xr-var-item > .xr-var-name span {\n",
       "  background-color: var(--xr-background-color-row-even);\n",
       "  margin-bottom: 0;\n",
       "}\n",
       "\n",
       ".xr-var-item > .xr-var-name:hover span {\n",
       "  padding-right: 5px;\n",
       "}\n",
       "\n",
       ".xr-var-list > li:nth-child(odd) > div,\n",
       ".xr-var-list > li:nth-child(odd) > label,\n",
       ".xr-var-list > li:nth-child(odd) > .xr-var-name span {\n",
       "  background-color: var(--xr-background-color-row-odd);\n",
       "}\n",
       "\n",
       ".xr-var-name {\n",
       "  grid-column: 1;\n",
       "}\n",
       "\n",
       ".xr-var-dims {\n",
       "  grid-column: 2;\n",
       "}\n",
       "\n",
       ".xr-var-dtype {\n",
       "  grid-column: 3;\n",
       "  text-align: right;\n",
       "  color: var(--xr-font-color2);\n",
       "}\n",
       "\n",
       ".xr-var-preview {\n",
       "  grid-column: 4;\n",
       "}\n",
       "\n",
       ".xr-var-name,\n",
       ".xr-var-dims,\n",
       ".xr-var-dtype,\n",
       ".xr-preview,\n",
       ".xr-attrs dt {\n",
       "  white-space: nowrap;\n",
       "  overflow: hidden;\n",
       "  text-overflow: ellipsis;\n",
       "  padding-right: 10px;\n",
       "}\n",
       "\n",
       ".xr-var-name:hover,\n",
       ".xr-var-dims:hover,\n",
       ".xr-var-dtype:hover,\n",
       ".xr-attrs dt:hover {\n",
       "  overflow: visible;\n",
       "  width: auto;\n",
       "  z-index: 1;\n",
       "}\n",
       "\n",
       ".xr-var-attrs,\n",
       ".xr-var-data {\n",
       "  display: none;\n",
       "  background-color: var(--xr-background-color) !important;\n",
       "  padding-bottom: 5px !important;\n",
       "}\n",
       "\n",
       ".xr-var-attrs-in:checked ~ .xr-var-attrs,\n",
       ".xr-var-data-in:checked ~ .xr-var-data {\n",
       "  display: block;\n",
       "}\n",
       "\n",
       ".xr-var-data > table {\n",
       "  float: right;\n",
       "}\n",
       "\n",
       ".xr-var-name span,\n",
       ".xr-var-data,\n",
       ".xr-attrs {\n",
       "  padding-left: 25px !important;\n",
       "}\n",
       "\n",
       ".xr-attrs,\n",
       ".xr-var-attrs,\n",
       ".xr-var-data {\n",
       "  grid-column: 1 / -1;\n",
       "}\n",
       "\n",
       "dl.xr-attrs {\n",
       "  padding: 0;\n",
       "  margin: 0;\n",
       "  display: grid;\n",
       "  grid-template-columns: 125px auto;\n",
       "}\n",
       "\n",
       ".xr-attrs dt,\n",
       ".xr-attrs dd {\n",
       "  padding: 0;\n",
       "  margin: 0;\n",
       "  float: left;\n",
       "  padding-right: 10px;\n",
       "  width: auto;\n",
       "}\n",
       "\n",
       ".xr-attrs dt {\n",
       "  font-weight: normal;\n",
       "  grid-column: 1;\n",
       "}\n",
       "\n",
       ".xr-attrs dt:hover span {\n",
       "  display: inline-block;\n",
       "  background: var(--xr-background-color);\n",
       "  padding-right: 10px;\n",
       "}\n",
       "\n",
       ".xr-attrs dd {\n",
       "  grid-column: 2;\n",
       "  white-space: pre-wrap;\n",
       "  word-break: break-all;\n",
       "}\n",
       "\n",
       ".xr-icon-database,\n",
       ".xr-icon-file-text2 {\n",
       "  display: inline-block;\n",
       "  vertical-align: middle;\n",
       "  width: 1em;\n",
       "  height: 1.5em !important;\n",
       "  stroke-width: 0;\n",
       "  stroke: currentColor;\n",
       "  fill: currentColor;\n",
       "}\n",
       "</style><pre class='xr-text-repr-fallback'>&lt;xarray.Dataset&gt;\n",
       "Dimensions:             (time: 1, x: 700, y: 765)\n",
       "Coordinates:\n",
       "  * y                   (y) float64 -3.65e+03 -3.652e+03 ... -4.414e+03\n",
       "  * x                   (x) float64 0.5 1.5 2.5 3.5 ... 696.5 697.5 698.5 699.5\n",
       "  * time                (time) datetime64[ns] 2021-01-19T06:55:00\n",
       "Data variables:\n",
       "    geographic          |S1 b&#x27;&#x27;\n",
       "    image1_calibration  |S1 b&#x27;&#x27;\n",
       "    image1_image_data   (time, y, x) float32 ...\n",
       "    overview            |S1 b&#x27;&#x27;\n",
       "    radar1              |S1 b&#x27;&#x27;\n",
       "    radar2              |S1 b&#x27;&#x27;\n",
       "    radar3              |S1 b&#x27;&#x27;\n",
       "    product             |S1 b&#x27;&#x27;\n",
       "    iso_dataset         |S1 b&#x27;&#x27;\n",
       "    projection          |S1 b&#x27;&#x27;\n",
       "Attributes:\n",
       "    Conventions:  CF-1.5\n",
       "    history:      Metadata adjusted by ADAGUC from KNMIHDF5 to NetCDF-CF</pre><div class='xr-wrap' hidden><div class='xr-header'><div class='xr-obj-type'>xarray.Dataset</div></div><ul class='xr-sections'><li class='xr-section-item'><input id='section-ec4cabc3-e1a1-4ec2-b3a7-c53cabf30145' class='xr-section-summary-in' type='checkbox' disabled ><label for='section-ec4cabc3-e1a1-4ec2-b3a7-c53cabf30145' class='xr-section-summary'  title='Expand/collapse section'>Dimensions:</label><div class='xr-section-inline-details'><ul class='xr-dim-list'><li><span class='xr-has-index'>time</span>: 1</li><li><span class='xr-has-index'>x</span>: 700</li><li><span class='xr-has-index'>y</span>: 765</li></ul></div><div class='xr-section-details'></div></li><li class='xr-section-item'><input id='section-bd720fbe-f308-42ea-9990-382d2863aef6' class='xr-section-summary-in' type='checkbox'  checked><label for='section-bd720fbe-f308-42ea-9990-382d2863aef6' class='xr-section-summary' >Coordinates: <span>(3)</span></label><div class='xr-section-inline-details'></div><div class='xr-section-details'><ul class='xr-var-list'><li class='xr-var-item'><div class='xr-var-name'><span class='xr-has-index'>y</span></div><div class='xr-var-dims'>(y)</div><div class='xr-var-dtype'>float64</div><div class='xr-var-preview xr-preview'>-3.65e+03 -3.652e+03 ... -4.414e+03</div><input id='attrs-25076263-cc95-4fcb-89cf-5daf88d0492c' class='xr-var-attrs-in' type='checkbox' ><label for='attrs-25076263-cc95-4fcb-89cf-5daf88d0492c' title='Show/Hide attributes'><svg class='icon xr-icon-file-text2'><use xlink:href='#icon-file-text2'></use></svg></label><input id='data-0d7722c0-38b7-47ee-8938-7e7bb4f41c3e' class='xr-var-data-in' type='checkbox'><label for='data-0d7722c0-38b7-47ee-8938-7e7bb4f41c3e' title='Show/Hide data repr'><svg class='icon xr-icon-database'><use xlink:href='#icon-database'></use></svg></label><div class='xr-var-attrs'><dl class='xr-attrs'><dt><span>standard_name :</span></dt><dd>projection_y_coordinate</dd><dt><span>long_name :</span></dt><dd>y coordinate of projection</dd><dt><span>units :</span></dt><dd>km</dd></dl></div><div class='xr-var-data'><pre>array([-3650.5, -3651.5, -3652.5, ..., -4412.5, -4413.5, -4414.5])</pre></div></li><li class='xr-var-item'><div class='xr-var-name'><span class='xr-has-index'>x</span></div><div class='xr-var-dims'>(x)</div><div class='xr-var-dtype'>float64</div><div class='xr-var-preview xr-preview'>0.5 1.5 2.5 ... 697.5 698.5 699.5</div><input id='attrs-f05ebdca-6d18-46ce-ac0d-1bb36f68cbaa' class='xr-var-attrs-in' type='checkbox' ><label for='attrs-f05ebdca-6d18-46ce-ac0d-1bb36f68cbaa' title='Show/Hide attributes'><svg class='icon xr-icon-file-text2'><use xlink:href='#icon-file-text2'></use></svg></label><input id='data-ff0f7ee3-555e-4b3c-95a3-d6b18a79acae' class='xr-var-data-in' type='checkbox'><label for='data-ff0f7ee3-555e-4b3c-95a3-d6b18a79acae' title='Show/Hide data repr'><svg class='icon xr-icon-database'><use xlink:href='#icon-database'></use></svg></label><div class='xr-var-attrs'><dl class='xr-attrs'><dt><span>standard_name :</span></dt><dd>projection_x_coordinate</dd><dt><span>long_name :</span></dt><dd>x coordinate of projection</dd><dt><span>units :</span></dt><dd>km</dd></dl></div><div class='xr-var-data'><pre>array([5.000e-01, 1.500e+00, 2.500e+00, ..., 6.975e+02, 6.985e+02, 6.995e+02])</pre></div></li><li class='xr-var-item'><div class='xr-var-name'><span class='xr-has-index'>time</span></div><div class='xr-var-dims'>(time)</div><div class='xr-var-dtype'>datetime64[ns]</div><div class='xr-var-preview xr-preview'>2021-01-19T06:55:00</div><input id='attrs-a20600f2-48a9-4e31-90dd-dbe4c954abdc' class='xr-var-attrs-in' type='checkbox' ><label for='attrs-a20600f2-48a9-4e31-90dd-dbe4c954abdc' title='Show/Hide attributes'><svg class='icon xr-icon-file-text2'><use xlink:href='#icon-file-text2'></use></svg></label><input id='data-9d3974c6-0aca-47b7-b8c2-923e4d2fb4ec' class='xr-var-data-in' type='checkbox'><label for='data-9d3974c6-0aca-47b7-b8c2-923e4d2fb4ec' title='Show/Hide data repr'><svg class='icon xr-icon-database'><use xlink:href='#icon-database'></use></svg></label><div class='xr-var-attrs'><dl class='xr-attrs'><dt><span>standard_name :</span></dt><dd>time</dd><dt><span>long_name :</span></dt><dd>time</dd></dl></div><div class='xr-var-data'><pre>array([&#x27;2021-01-19T06:55:00.000000000&#x27;], dtype=&#x27;datetime64[ns]&#x27;)</pre></div></li></ul></div></li><li class='xr-section-item'><input id='section-346a6ff3-6183-4d64-9ee7-978ea35603c8' class='xr-section-summary-in' type='checkbox'  checked><label for='section-346a6ff3-6183-4d64-9ee7-978ea35603c8' class='xr-section-summary' >Data variables: <span>(10)</span></label><div class='xr-section-inline-details'></div><div class='xr-section-details'><ul class='xr-var-list'><li class='xr-var-item'><div class='xr-var-name'><span>geographic</span></div><div class='xr-var-dims'>()</div><div class='xr-var-dtype'>|S1</div><div class='xr-var-preview xr-preview'>...</div><input id='attrs-caa16504-9148-4b0b-b61e-f74aad1596f4' class='xr-var-attrs-in' type='checkbox' ><label for='attrs-caa16504-9148-4b0b-b61e-f74aad1596f4' title='Show/Hide attributes'><svg class='icon xr-icon-file-text2'><use xlink:href='#icon-file-text2'></use></svg></label><input id='data-432e403c-817a-4c7f-b956-d0ced22006fc' class='xr-var-data-in' type='checkbox'><label for='data-432e403c-817a-4c7f-b956-d0ced22006fc' title='Show/Hide data repr'><svg class='icon xr-icon-database'><use xlink:href='#icon-database'></use></svg></label><div class='xr-var-attrs'><dl class='xr-attrs'><dt><span>geo_number_rows :</span></dt><dd>765</dd><dt><span>geo_number_columns :</span></dt><dd>700</dd><dt><span>geo_pixel_size_x :</span></dt><dd>1.0</dd><dt><span>geo_pixel_size_y :</span></dt><dd>-1.0</dd><dt><span>geo_par_pixel :</span></dt><dd>X,Y</dd><dt><span>geo_dim_pixel :</span></dt><dd>KM,KM</dd><dt><span>geo_column_offset :</span></dt><dd>0.0</dd><dt><span>geo_row_offset :</span></dt><dd>3650.0</dd><dt><span>geo_pixel_def :</span></dt><dd>LU</dd><dt><span>geo_product_corners :</span></dt><dd>[ 0.    49.362  0.    55.974 10.856 55.389  9.009 48.895]</dd><dt><span>long_name :</span></dt><dd>geographic</dd></dl></div><div class='xr-var-data'><pre>array(b&#x27;&#x27;, dtype=&#x27;|S1&#x27;)</pre></div></li><li class='xr-var-item'><div class='xr-var-name'><span>image1_calibration</span></div><div class='xr-var-dims'>()</div><div class='xr-var-dtype'>|S1</div><div class='xr-var-preview xr-preview'>...</div><input id='attrs-b4c1e88b-e9a8-432d-948b-9a9d3961cab8' class='xr-var-attrs-in' type='checkbox' ><label for='attrs-b4c1e88b-e9a8-432d-948b-9a9d3961cab8' title='Show/Hide attributes'><svg class='icon xr-icon-file-text2'><use xlink:href='#icon-file-text2'></use></svg></label><input id='data-504e2fa5-14d8-4ac8-9a62-eedb56eeb99d' class='xr-var-data-in' type='checkbox'><label for='data-504e2fa5-14d8-4ac8-9a62-eedb56eeb99d' title='Show/Hide data repr'><svg class='icon xr-icon-database'><use xlink:href='#icon-database'></use></svg></label><div class='xr-var-attrs'><dl class='xr-attrs'><dt><span>calibration_flag :</span></dt><dd>Y</dd><dt><span>calibration_missing_data :</span></dt><dd>65535</dd><dt><span>calibration_formulas :</span></dt><dd>GEO = 0.010000 * PV + 0.000000</dd><dt><span>calibration_out_of_image :</span></dt><dd>65535</dd><dt><span>long_name :</span></dt><dd>Scale and offset description</dd></dl></div><div class='xr-var-data'><pre>array(b&#x27;&#x27;, dtype=&#x27;|S1&#x27;)</pre></div></li><li class='xr-var-item'><div class='xr-var-name'><span>image1_image_data</span></div><div class='xr-var-dims'>(time, y, x)</div><div class='xr-var-dtype'>float32</div><div class='xr-var-preview xr-preview'>...</div><input id='attrs-57f9c85b-0cf1-46d6-9885-abede9bbc38f' class='xr-var-attrs-in' type='checkbox' ><label for='attrs-57f9c85b-0cf1-46d6-9885-abede9bbc38f' title='Show/Hide attributes'><svg class='icon xr-icon-file-text2'><use xlink:href='#icon-file-text2'></use></svg></label><input id='data-08c4d32e-bc72-42bd-85b4-36528a75263f' class='xr-var-data-in' type='checkbox'><label for='data-08c4d32e-bc72-42bd-85b4-36528a75263f' title='Show/Hide data repr'><svg class='icon xr-icon-database'><use xlink:href='#icon-database'></use></svg></label><div class='xr-var-attrs'><dl class='xr-attrs'><dt><span>VERSION :</span></dt><dd>1.2</dd><dt><span>grid_mapping :</span></dt><dd>projection</dd><dt><span>units :</span></dt><dd>kg m-2</dd><dt><span>standard_name :</span></dt><dd>precipitation_amount</dd><dt><span>comment :</span></dt><dd>Original units are in mm</dd></dl></div><div class='xr-var-data'><pre>[535500 values with dtype=float32]</pre></div></li><li class='xr-var-item'><div class='xr-var-name'><span>overview</span></div><div class='xr-var-dims'>()</div><div class='xr-var-dtype'>|S1</div><div class='xr-var-preview xr-preview'>...</div><input id='attrs-1b121dee-25c5-4d09-bfe7-78c135b7da1c' class='xr-var-attrs-in' type='checkbox' ><label for='attrs-1b121dee-25c5-4d09-bfe7-78c135b7da1c' title='Show/Hide attributes'><svg class='icon xr-icon-file-text2'><use xlink:href='#icon-file-text2'></use></svg></label><input id='data-7a97338b-3a16-4d5b-9577-1a88cb99f5f8' class='xr-var-data-in' type='checkbox'><label for='data-7a97338b-3a16-4d5b-9577-1a88cb99f5f8' title='Show/Hide data repr'><svg class='icon xr-icon-database'><use xlink:href='#icon-database'></use></svg></label><div class='xr-var-attrs'><dl class='xr-attrs'><dt><span>products_missing :</span></dt><dd>NA</dd><dt><span>hdftag_version_number :</span></dt><dd>3.5</dd><dt><span>number_satellite_groups :</span></dt><dd>0</dd><dt><span>number_radar_groups :</span></dt><dd>3</dd><dt><span>number_station_groups :</span></dt><dd>0</dd><dt><span>product_version :</span></dt><dd>2</dd><dt><span>number_image_groups :</span></dt><dd>1</dd><dt><span>product_group_name :</span></dt><dd>RAD_NL25_RAC_MFBS_5min</dd><dt><span>product_datetime_start :</span></dt><dd>19-JAN-2021;06:55:00.000</dd><dt><span>product_datetime_end :</span></dt><dd>19-JAN-2021;07:00:00.000</dd><dt><span>long_name :</span></dt><dd>Date time description</dd></dl></div><div class='xr-var-data'><pre>array(b&#x27;&#x27;, dtype=&#x27;|S1&#x27;)</pre></div></li><li class='xr-var-item'><div class='xr-var-name'><span>radar1</span></div><div class='xr-var-dims'>()</div><div class='xr-var-dtype'>|S1</div><div class='xr-var-preview xr-preview'>...</div><input id='attrs-e46f9e40-d197-4606-b7a4-db34b8423d7e' class='xr-var-attrs-in' type='checkbox' ><label for='attrs-e46f9e40-d197-4606-b7a4-db34b8423d7e' title='Show/Hide attributes'><svg class='icon xr-icon-file-text2'><use xlink:href='#icon-file-text2'></use></svg></label><input id='data-540d6df9-4688-4207-9a39-99baa2e8c5f6' class='xr-var-data-in' type='checkbox'><label for='data-540d6df9-4688-4207-9a39-99baa2e8c5f6' title='Show/Hide data repr'><svg class='icon xr-icon-database'><use xlink:href='#icon-database'></use></svg></label><div class='xr-var-attrs'><dl class='xr-attrs'><dt><span>radar_location :</span></dt><dd>[ 5.179 52.103]</dd><dt><span>radar_name :</span></dt><dd>De_Bilt</dd><dt><span>radar_num_contrib :</span></dt><dd>1</dd><dt><span>long_name :</span></dt><dd>Location of radar</dd></dl></div><div class='xr-var-data'><pre>array(b&#x27;&#x27;, dtype=&#x27;|S1&#x27;)</pre></div></li><li class='xr-var-item'><div class='xr-var-name'><span>radar2</span></div><div class='xr-var-dims'>()</div><div class='xr-var-dtype'>|S1</div><div class='xr-var-preview xr-preview'>...</div><input id='attrs-c0a18da2-2322-489b-a945-b78298550fc2' class='xr-var-attrs-in' type='checkbox' ><label for='attrs-c0a18da2-2322-489b-a945-b78298550fc2' title='Show/Hide attributes'><svg class='icon xr-icon-file-text2'><use xlink:href='#icon-file-text2'></use></svg></label><input id='data-7e0ef4e1-2336-4773-aaa6-141a325df965' class='xr-var-data-in' type='checkbox'><label for='data-7e0ef4e1-2336-4773-aaa6-141a325df965' title='Show/Hide data repr'><svg class='icon xr-icon-database'><use xlink:href='#icon-database'></use></svg></label><div class='xr-var-attrs'><dl class='xr-attrs'><dt><span>radar_location :</span></dt><dd>[ 4.79  52.955]</dd><dt><span>radar_name :</span></dt><dd>Den_Helder</dd><dt><span>long_name :</span></dt><dd>Location of radar</dd></dl></div><div class='xr-var-data'><pre>array(b&#x27;&#x27;, dtype=&#x27;|S1&#x27;)</pre></div></li><li class='xr-var-item'><div class='xr-var-name'><span>radar3</span></div><div class='xr-var-dims'>()</div><div class='xr-var-dtype'>|S1</div><div class='xr-var-preview xr-preview'>...</div><input id='attrs-d4eaf3b4-7d37-42a3-9420-4fdb06f0a81b' class='xr-var-attrs-in' type='checkbox' ><label for='attrs-d4eaf3b4-7d37-42a3-9420-4fdb06f0a81b' title='Show/Hide attributes'><svg class='icon xr-icon-file-text2'><use xlink:href='#icon-file-text2'></use></svg></label><input id='data-63d3f325-e210-4c90-a8d3-fb87b27ef919' class='xr-var-data-in' type='checkbox'><label for='data-63d3f325-e210-4c90-a8d3-fb87b27ef919' title='Show/Hide data repr'><svg class='icon xr-icon-database'><use xlink:href='#icon-database'></use></svg></label><div class='xr-var-attrs'><dl class='xr-attrs'><dt><span>radar_location :</span></dt><dd>[ 5.1381 51.8369]</dd><dt><span>radar_name :</span></dt><dd>Herwijnen</dd></dl></div><div class='xr-var-data'><pre>array(b&#x27;&#x27;, dtype=&#x27;|S1&#x27;)</pre></div></li><li class='xr-var-item'><div class='xr-var-name'><span>product</span></div><div class='xr-var-dims'>()</div><div class='xr-var-dtype'>|S1</div><div class='xr-var-preview xr-preview'>...</div><input id='attrs-7740cc51-75fe-481a-b0df-0fbb9c7490ab' class='xr-var-attrs-in' type='checkbox' ><label for='attrs-7740cc51-75fe-481a-b0df-0fbb9c7490ab' title='Show/Hide attributes'><svg class='icon xr-icon-file-text2'><use xlink:href='#icon-file-text2'></use></svg></label><input id='data-f12ac2e9-b1de-4261-81b1-0f5549e28861' class='xr-var-data-in' type='checkbox'><label for='data-f12ac2e9-b1de-4261-81b1-0f5549e28861' title='Show/Hide data repr'><svg class='icon xr-icon-database'><use xlink:href='#icon-database'></use></svg></label><div class='xr-var-attrs'><dl class='xr-attrs'><dt><span>validity_start :</span></dt><dd>20210119T065500</dd><dt><span>validity_stop :</span></dt><dd>20210119T070000</dd><dt><span>long_name :</span></dt><dd>ADAGUC Data Products Standard</dd><dt><span>units :</span></dt><dd>1</dd><dt><span>ref_doc :</span></dt><dd>ADAGUC Data Products Standard</dd><dt><span>ref_doc_version :</span></dt><dd>2</dd><dt><span>format_version :</span></dt><dd>2</dd><dt><span>originator :</span></dt><dd>Royal Netherlands Meteorological Institute (KNMI)</dd><dt><span>type :</span></dt><dd>R</dd><dt><span>acronym :</span></dt><dd>RAD_NL25_RAC_MFBS_EM_5min</dd><dt><span>level :</span></dt><dd>L2</dd><dt><span>style :</span></dt><dd>camelCase</dd></dl></div><div class='xr-var-data'><pre>array(b&#x27;&#x27;, dtype=&#x27;|S1&#x27;)</pre></div></li><li class='xr-var-item'><div class='xr-var-name'><span>iso_dataset</span></div><div class='xr-var-dims'>()</div><div class='xr-var-dtype'>|S1</div><div class='xr-var-preview xr-preview'>...</div><input id='attrs-fe6a803c-17ff-47b2-86e6-57588634c58a' class='xr-var-attrs-in' type='checkbox' ><label for='attrs-fe6a803c-17ff-47b2-86e6-57588634c58a' title='Show/Hide attributes'><svg class='icon xr-icon-file-text2'><use xlink:href='#icon-file-text2'></use></svg></label><input id='data-55f10fd7-d15c-4fb2-bc46-52f6827e8f54' class='xr-var-data-in' type='checkbox'><label for='data-55f10fd7-d15c-4fb2-bc46-52f6827e8f54' title='Show/Hide data repr'><svg class='icon xr-icon-database'><use xlink:href='#icon-database'></use></svg></label><div class='xr-var-attrs'><dl class='xr-attrs'><dt><span>min_x :</span></dt><dd>0.000000f</dd><dt><span>min_y :</span></dt><dd>49.362000f</dd><dt><span>max_x :</span></dt><dd>10.856000f</dd><dt><span>max_y :</span></dt><dd>55.389000f</dd><dt><span>long_name :</span></dt><dd>Iso 19115 metadata description</dd><dt><span>title :</span></dt><dd>RAD_NL25_RAC_MFBS_EM_5min</dd><dt><span>abstract :</span></dt><dd>Composites of 5 min precipitation depths adjusted using data from rain gauge networks.</dd><dt><span>status :</span></dt><dd>ongoing</dd><dt><span>type :</span></dt><dd>dataset</dd><dt><span>uid :</span></dt><dd>4c780c1e-6693-4ad9-9f8e-7caccddd089c</dd><dt><span>topic :</span></dt><dd>atmosphere</dd><dt><span>keyword :</span></dt><dd>Precipitation</dd><dt><span>temporal_extent :</span></dt><dd>2008-01-01 - ongoing</dd><dt><span>date :</span></dt><dd>2017-09-01</dd><dt><span>dateType :</span></dt><dd>publication date</dd><dt><span>statement :</span></dt><dd>Climatological radar rainfall dataset of 5 min precipitation depths, which have been adjusted employing rain gauge data from both KNMI rain gauge networks. Based on the composites of radar reflectivities from both KNMI weather radars (De Bilt at 52.103 degrees N, 5.179 degrees E and Den Helder at 52.955 degrees N, 4.79 degrees E). The time in the file name is the time of the end of the observation. Data are available for the entire land surface of the Netherlands. An Extended Mask (EM) has been applied to this dataset. As a result, data are also available up to tens of kilometers away from the land surface of the Netherlands, i.e. above Belgium, Germany, and above open water. Pixels have 1 km spatial resolution. The radar in De Bilt stopped contributing to the composite in the course of January 2017. It was replaced by a new radar in Herwijnen. Hence, as of the end of January 2017 the composites are based on the data from both new KNMI weather radars (Den Helder at 52.955 degrees N, 4.79 degrees E and Herwijnen at 5.1381 degrees N, 51.8369 degrees E). From 19 September 2016 till the end of January 2017, one, two or even three radars may contribute to the composite.</dd><dt><span>code :</span></dt><dd>Not applicable</dd><dt><span>codeSpace :</span></dt><dd>EPSG</dd><dt><span>accessConstraints :</span></dt><dd>none</dd><dt><span>useLimitation :</span></dt><dd>none</dd><dt><span>organisationName_dataset :</span></dt><dd>Royal Netherlands Meteorological Institute (KNMI)</dd><dt><span>email_dataset :</span></dt><dd>overeem@knmi.nl, adaguc@knmi.nl</dd><dt><span>role_dataset :</span></dt><dd>pointOfContact</dd><dt><span>metadata_id :</span></dt><dd>a11d6220-e252-49a1-abc9-f332588947f0</dd><dt><span>organisationName_metadata :</span></dt><dd>Royal Netherlands Meteorological Institute (KNMI)</dd><dt><span>role_metadata :</span></dt><dd>pointOfContact</dd><dt><span>email_metadata :</span></dt><dd>adaguc@knmi.nl</dd><dt><span>url_metadata :</span></dt><dd>http://adaguc.knmi.nl</dd><dt><span>datestamp :</span></dt><dd>2017-09-01</dd><dt><span>language :</span></dt><dd>eng</dd><dt><span>metadataStandardName :</span></dt><dd>ISO 19115</dd><dt><span>metadataStandardNameVersion :</span></dt><dd>Nederlandse metadatastandaard op ISO 19115 voor geografie 1.2</dd></dl></div><div class='xr-var-data'><pre>array(b&#x27;&#x27;, dtype=&#x27;|S1&#x27;)</pre></div></li><li class='xr-var-item'><div class='xr-var-name'><span>projection</span></div><div class='xr-var-dims'>()</div><div class='xr-var-dtype'>|S1</div><div class='xr-var-preview xr-preview'>...</div><input id='attrs-3f13c899-21d8-4e5e-b2c8-48c9e1e32ea6' class='xr-var-attrs-in' type='checkbox' ><label for='attrs-3f13c899-21d8-4e5e-b2c8-48c9e1e32ea6' title='Show/Hide attributes'><svg class='icon xr-icon-file-text2'><use xlink:href='#icon-file-text2'></use></svg></label><input id='data-de3b64ab-aeb7-4ec4-96a6-7e77be88fad7' class='xr-var-data-in' type='checkbox'><label for='data-de3b64ab-aeb7-4ec4-96a6-7e77be88fad7' title='Show/Hide data repr'><svg class='icon xr-icon-database'><use xlink:href='#icon-database'></use></svg></label><div class='xr-var-attrs'><dl class='xr-attrs'><dt><span>grid_mapping_name :</span></dt><dd>polar_stereographic</dd><dt><span>latitude_of_projection_origin :</span></dt><dd>90.0</dd><dt><span>straight_vertical_longitude_from_pole :</span></dt><dd>0.0</dd><dt><span>standard_parallel :</span></dt><dd>60.0</dd><dt><span>false_easting :</span></dt><dd>0.0</dd><dt><span>false_northing :</span></dt><dd>0.0</dd><dt><span>semi_major_axis :</span></dt><dd>6378137.0</dd><dt><span>semi_minor_axis :</span></dt><dd>6356752.0</dd><dt><span>proj4_params :</span></dt><dd>+proj=stere +lat_0=90 +lon_0=0.0 +lat_ts=60.0 +a=6378.137 +b=6356.752 +x_0=0 +y_0=0</dd><dt><span>proj4_origin :</span></dt><dd>+proj=stere +lat_0=90.000000 +lon_0=0.000000 +lat_ts=60.000000 +a=6378.137000 +b=6356.752000 +x_0=0.000000 +y_0=0.000000</dd></dl></div><div class='xr-var-data'><pre>array(b&#x27;&#x27;, dtype=&#x27;|S1&#x27;)</pre></div></li></ul></div></li><li class='xr-section-item'><input id='section-84fabea5-ef11-437b-a2ba-5be90e5a831b' class='xr-section-summary-in' type='checkbox'  checked><label for='section-84fabea5-ef11-437b-a2ba-5be90e5a831b' class='xr-section-summary' >Attributes: <span>(2)</span></label><div class='xr-section-inline-details'></div><div class='xr-section-details'><dl class='xr-attrs'><dt><span>Conventions :</span></dt><dd>CF-1.5</dd><dt><span>history :</span></dt><dd>Metadata adjusted by ADAGUC from KNMIHDF5 to NetCDF-CF</dd></dl></div></li></ul></div></div>"
      ],
      "text/plain": [
       "<xarray.Dataset>\n",
       "Dimensions:             (time: 1, x: 700, y: 765)\n",
       "Coordinates:\n",
       "  * y                   (y) float64 -3.65e+03 -3.652e+03 ... -4.414e+03\n",
       "  * x                   (x) float64 0.5 1.5 2.5 3.5 ... 696.5 697.5 698.5 699.5\n",
       "  * time                (time) datetime64[ns] 2021-01-19T06:55:00\n",
       "Data variables:\n",
       "    geographic          |S1 ...\n",
       "    image1_calibration  |S1 ...\n",
       "    image1_image_data   (time, y, x) float32 ...\n",
       "    overview            |S1 ...\n",
       "    radar1              |S1 ...\n",
       "    radar2              |S1 ...\n",
       "    radar3              |S1 ...\n",
       "    product             |S1 ...\n",
       "    iso_dataset         |S1 ...\n",
       "    projection          |S1 ...\n",
       "Attributes:\n",
       "    Conventions:  CF-1.5\n",
       "    history:      Metadata adjusted by ADAGUC from KNMIHDF5 to NetCDF-CF"
      ]
     },
     "execution_count": 13,
     "metadata": {},
     "output_type": "execute_result"
    }
   ],
   "source": [
    "import xarray as xr\n",
    "file = xr.open_dataset(onefile)\n",
    "file"
   ]
  },
  {
   "cell_type": "code",
   "execution_count": 69,
   "metadata": {},
   "outputs": [
    {
     "ename": "AttributeError",
     "evalue": "'float' object has no attribute '__array__'",
     "output_type": "error",
     "traceback": [
      "\u001b[0;31m---------------------------------------------------------------------------\u001b[0m",
      "\u001b[0;31mAttributeError\u001b[0m                            Traceback (most recent call last)",
      "\u001b[0;32m<ipython-input-69-ca89643963ea>\u001b[0m in \u001b[0;36m<module>\u001b[0;34m\u001b[0m\n\u001b[0;32m----> 1\u001b[0;31m \u001b[0mx1\u001b[0m \u001b[0;34m=\u001b[0m \u001b[0mx\u001b[0m\u001b[0;34m.\u001b[0m\u001b[0m__array__\u001b[0m\u001b[0;34m(\u001b[0m\u001b[0;34m)\u001b[0m\u001b[0;34m\u001b[0m\u001b[0;34m\u001b[0m\u001b[0m\n\u001b[0m",
      "\u001b[0;31mAttributeError\u001b[0m: 'float' object has no attribute '__array__'"
     ]
    }
   ],
   "source": [
    "x1 = x.__array__()"
   ]
  },
  {
   "cell_type": "code",
   "execution_count": 331,
   "metadata": {},
   "outputs": [
    {
     "data": {
      "text/plain": [
       "(700,)"
      ]
     },
     "execution_count": 331,
     "metadata": {},
     "output_type": "execute_result"
    }
   ],
   "source": [
    "x.shape"
   ]
  },
  {
   "cell_type": "code",
   "execution_count": 318,
   "metadata": {},
   "outputs": [],
   "source": [
    "y1 = y.__array__()"
   ]
  },
  {
   "cell_type": "code",
   "execution_count": 321,
   "metadata": {},
   "outputs": [
    {
     "data": {
      "text/plain": [
       "(765, 700)"
      ]
     },
     "execution_count": 321,
     "metadata": {},
     "output_type": "execute_result"
    }
   ],
   "source": [
    "one_month_data.shape"
   ]
  },
  {
   "cell_type": "code",
   "execution_count": 447,
   "metadata": {
    "scrolled": true
   },
   "outputs": [
    {
     "data": {
      "image/png": "[encoded data removed]",
      "text/plain": [
       "<Figure size 432x288 with 2 Axes>"
      ]
     },
     "metadata": {
      "needs_background": "light"
     },
     "output_type": "display_data"
    }
   ],
   "source": [
    "import matplotlib.pyplot as plt\n",
    "import numpy as np\n",
    "\n",
    "# generate 2 2d grids for the x & y bounds\n",
    "y, x = np.meshgrid(np.linspace(-3, 3, 100), np.linspace(-3, 3, 100))\n",
    "\n",
    "z = (1 - x / 2. + x ** 5 + y ** 3) * np.exp(-x ** 2 - y ** 2)\n",
    "# x and y are bounds, so z should be the value *inside* those bounds.\n",
    "# Therefore, remove the last value from the z array.\n",
    "z = z[:-1, :-1]\n",
    "z_min, z_max = -np.abs(z).max(), np.abs(z).max()\n",
    "\n",
    "fig, ax = plt.subplots()\n",
    "\n",
    "# c = ax.pcolormesh(x1, y1, Mokefilled[0], cmap='Blues', vmin=0, vmax=1)\n",
    "\n",
    "c = ax.pcolormesh(x1, y1, one_month_data[0], cmap='Blues', vmin=0, vmax=128)\n",
    "\n",
    "# cmap - Blues, OrangeBlue\n",
    "\n",
    "ax.set_title('pcolormesh')\n",
    "# set the limits of the plot to the limits of the data\n",
    "ax.axis([x1.min(), x1.max(), y1.min(), y1.max()])\n",
    "fig.colorbar(c, ax=ax)\n",
    "\n",
    "plt.show()"
   ]
  },
  {
   "cell_type": "code",
   "execution_count": null,
   "metadata": {
    "scrolled": true
   },
   "outputs": [],
   "source": [
    "from mpl_toolkits.basemap import Basemap\n",
    "import numpy as np\n",
    "import matplotlib.pyplot as plt\n",
    "# setup stereographic basemap.\n",
    "# lat_ts is latitude of true scale.\n",
    "# lon_0,lat_0 is central point.\n",
    "# m = Basemap(width=12000000,height=8000000,\n",
    "#             resolution='l',projection='stere',\\\n",
    "#             lat_ts=50,lat_0=90,lon_0=-107.)\n",
    "\n",
    "\n",
    "m = Basemap(width=750000,height=500000,\n",
    "            resolution='l',projection='stere',\\\n",
    "lat_0=52.1326, lon_0=5.2913, lat_ts=50.0)\n",
    "\n",
    "m.drawcoastlines()\n",
    "m.drawcountries()\n",
    "m.fillcontinents(color='coral',lake_color='aqua')\n",
    "# draw parallels and meridians.\n",
    "m.drawparallels(np.arange(-80.,81.,20.))\n",
    "m.drawmeridians(np.arange(-180.,181.,20.))\n",
    "m.drawmapboundary(fill_color='aqua')\n",
    "# draw tissot's indicatrix to show distortion.\n",
    "ax = plt.gca()\n",
    "# for y in np.linspace(m.ymax/20,19*m.ymax/20,9):\n",
    "#     for x in np.linspace(m.xmax/20,19*m.xmax/20,12):\n",
    "#         lon, lat = m(x,y,inverse=True)\n",
    "#         poly = m.tissot(lon,lat,1.5,100,\\\n",
    "#                         facecolor='green',zorder=10,alpha=0.5)\n",
    "\n",
    "# m.pcolormesh(x1, y1, mydata[0], cmap='RdBu', vmin=0, vmax=65535)\n",
    "\n",
    "# cs = m.pcolormesh(x,y,data,cmap = my_cmap)\n",
    "# m.colorbar(cs, extend = 'min')\n",
    "\n",
    "lon,lat = m(x1,y1)\n",
    "\n",
    "\n",
    "cs = m.pcolormesh(lon, lat, one_month_data[0], cmap='Blues', vmin=0, vmax=128)\n",
    "m.colorbar(cs, extend = 'min')\n",
    "\n",
    "# c = ax.pcolormesh(x1, y1, mydata[0], cmap='RdBu', vmin=0, vmax=65535)\n",
    "# # c = ax.pcolormesh(x, y, z, cmap='RdBu', vmin=z_min, vmax=z_max)\n",
    "# ax.set_title('pcolormesh')\n",
    "# # set the limits of the plot to the limits of the data\n",
    "# ax.axis([x1.min(), x1.max(), y1.min(), y1.max()])\n",
    "# fig.colorbar(c, ax=ax)\n",
    "# plt.title(\"Stereographic Projection\")\n",
    "\n",
    "plt.show()"
   ]
  },
  {
   "cell_type": "code",
   "execution_count": 16,
   "metadata": {},
   "outputs": [],
   "source": [
    "from pyproj import Transformer"
   ]
  },
  {
   "cell_type": "code",
   "execution_count": 17,
   "metadata": {},
   "outputs": [],
   "source": [
    "pipeline_str = (\"+proj=stere +lat_0=90 +lon_0=0.0 +lat_ts=60.0 +a=6378.137 +b=6356.752 +x_0=0 +y_0=0\")\n",
    "pipe_trans = Transformer.from_pipeline(pipeline_str)"
   ]
  },
  {
   "cell_type": "code",
   "execution_count": 19,
   "metadata": {},
   "outputs": [
    {
     "ename": "ProjError",
     "evalue": "Error creating Transformer from CRS.: (Internal Proj Error: proj_create_operations: Source and target ellipsoid do not belong to the same celestial body)",
     "output_type": "error",
     "traceback": [
      "\u001b[0;31m---------------------------------------------------------------------------\u001b[0m",
      "\u001b[0;31mProjError\u001b[0m                                 Traceback (most recent call last)",
      "\u001b[0;32m<ipython-input-19-62f2912ee496>\u001b[0m in \u001b[0;36m<module>\u001b[0;34m\u001b[0m\n\u001b[0;32m----> 1\u001b[0;31m transproj = Transformer.from_crs(\n\u001b[0m\u001b[1;32m      2\u001b[0m     \u001b[0mcrs_from\u001b[0m \u001b[0;34m=\u001b[0m \u001b[0mpipeline_str\u001b[0m\u001b[0;34m,\u001b[0m\u001b[0;34m\u001b[0m\u001b[0;34m\u001b[0m\u001b[0m\n\u001b[1;32m      3\u001b[0m     \u001b[0mcrs_to\u001b[0m \u001b[0;34m=\u001b[0m \u001b[0;34m\"EPSG:28992\"\u001b[0m\u001b[0;34m,\u001b[0m\u001b[0;34m\u001b[0m\u001b[0;34m\u001b[0m\u001b[0m\n\u001b[1;32m      4\u001b[0m     \u001b[0malways_xy\u001b[0m\u001b[0;34m=\u001b[0m\u001b[0;32mTrue\u001b[0m\u001b[0;34m\u001b[0m\u001b[0;34m\u001b[0m\u001b[0m\n\u001b[1;32m      5\u001b[0m )\n",
      "\u001b[0;32m/opt/anaconda3/lib/python3.8/site-packages/pyproj/transformer.py\u001b[0m in \u001b[0;36mfrom_crs\u001b[0;34m(crs_from, crs_to, skip_equivalent, always_xy, area_of_interest)\u001b[0m\n\u001b[1;32m    308\u001b[0m         \"\"\"\n\u001b[1;32m    309\u001b[0m         return Transformer(\n\u001b[0;32m--> 310\u001b[0;31m             _Transformer.from_crs(\n\u001b[0m\u001b[1;32m    311\u001b[0m                 \u001b[0mCRS\u001b[0m\u001b[0;34m.\u001b[0m\u001b[0mfrom_user_input\u001b[0m\u001b[0;34m(\u001b[0m\u001b[0mcrs_from\u001b[0m\u001b[0;34m)\u001b[0m\u001b[0;34m,\u001b[0m\u001b[0;34m\u001b[0m\u001b[0;34m\u001b[0m\u001b[0m\n\u001b[1;32m    312\u001b[0m                 \u001b[0mCRS\u001b[0m\u001b[0;34m.\u001b[0m\u001b[0mfrom_user_input\u001b[0m\u001b[0;34m(\u001b[0m\u001b[0mcrs_to\u001b[0m\u001b[0;34m)\u001b[0m\u001b[0;34m,\u001b[0m\u001b[0;34m\u001b[0m\u001b[0;34m\u001b[0m\u001b[0m\n",
      "\u001b[0;32mpyproj/_transformer.pyx\u001b[0m in \u001b[0;36mpyproj._transformer._Transformer.from_crs\u001b[0;34m()\u001b[0m\n",
      "\u001b[0;31mProjError\u001b[0m: Error creating Transformer from CRS.: (Internal Proj Error: proj_create_operations: Source and target ellipsoid do not belong to the same celestial body)"
     ]
    }
   ],
   "source": [
    "transproj = Transformer.from_crs(\n",
    "    crs_from = pipeline_str,\n",
    "    crs_to = \"EPSG:28992\",\n",
    "    always_xy=True\n",
    ")"
   ]
  },
  {
   "cell_type": "code",
   "execution_count": 74,
   "metadata": {},
   "outputs": [],
   "source": [
    "lat = 52.465\n",
    "long = 4.518\n",
    "\n",
    "xt, yt = pipe_trans.transform(long, lat)"
   ]
  },
  {
   "cell_type": "code",
   "execution_count": 75,
   "metadata": {},
   "outputs": [
    {
     "data": {
      "text/plain": [
       "'319.214  -4039.767'"
      ]
     },
     "execution_count": 75,
     "metadata": {},
     "output_type": "execute_result"
    }
   ],
   "source": [
    "f\"{xt:.3f}  {yt:.3f}\""
   ]
  },
  {
   "cell_type": "code",
   "execution_count": 59,
   "metadata": {},
   "outputs": [],
   "source": [
    "import pyproj\n",
    "p = pyproj.Proj(\"+proj=stere +lat_0=90 +lon_0=0.0 +lat_ts=60.0 +a=6378.137 +b=6356.752 +x_0=0 +y_0=0\")\n"
   ]
  },
  {
   "cell_type": "code",
   "execution_count": 67,
   "metadata": {},
   "outputs": [
    {
     "name": "stdout",
     "output_type": "stream",
     "text": [
      "94.92185801521316 89.49472506309259\n"
     ]
    }
   ],
   "source": [
    "x, y = p(lat, long, inverse=True)\n",
    "print (x, y)"
   ]
  },
  {
   "cell_type": "code",
   "execution_count": null,
   "metadata": {},
   "outputs": [],
   "source": [
    "# inverse= True X, Y --> long/lat\n",
    "\n",
    "# inverse = False Long/Lat -->  X, Y"
   ]
  },
  {
   "cell_type": "code",
   "execution_count": 72,
   "metadata": {},
   "outputs": [
    {
     "name": "stdout",
     "output_type": "stream",
     "text": [
      "6.242276765608849 55.68032426735717\n"
     ]
    }
   ],
   "source": [
    "# (400.5, -3661.5)\n",
    "\n",
    "lon, lat = p(400.5, -3661.5, inverse=True)\n",
    "print (lon, lat)"
   ]
  },
  {
   "cell_type": "code",
   "execution_count": null,
   "metadata": {},
   "outputs": [],
   "source": []
  },
  {
   "cell_type": "code",
   "execution_count": null,
   "metadata": {},
   "outputs": [],
   "source": []
  },
  {
   "cell_type": "code",
   "execution_count": null,
   "metadata": {},
   "outputs": [],
   "source": []
  }
 ],
 "metadata": {
  "kernelspec": {
   "display_name": "Python 3",
   "language": "python",
   "name": "python3"
  },
  "language_info": {
   "codemirror_mode": {
    "name": "ipython",
    "version": 3
   },
   "file_extension": ".py",
   "mimetype": "text/x-python",
   "name": "python",
   "nbconvert_exporter": "python",
   "pygments_lexer": "ipython3",
   "version": "3.8.8"
  }
 },
 "nbformat": 4,
 "nbformat_minor": 4
}
